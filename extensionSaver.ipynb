{
 "cells": [
  {
   "cell_type": "markdown",
   "id": "fb58d26e",
   "metadata": {
    "id": "fb58d26e"
   },
   "source": [
    "# Important Library Imports"
   ]
  },
  {
   "cell_type": "code",
   "execution_count": 1,
   "id": "29655322",
   "metadata": {
    "id": "29655322"
   },
   "outputs": [],
   "source": [
    "import torch\n",
    "import torchvision\n",
    "import torch.nn as nn\n",
    "import torch.optim as optim\n",
    "import torchvision.transforms as transforms\n",
    "from torchvision import models\n",
    "from torchvision.datasets import ImageFolder\n",
    "from torch.utils.data import DataLoader\n",
    "import numpy as np\n",
    "import matplotlib.pyplot as plt\n",
    "import os\n",
    "from torch.utils.data import Dataset\n",
    "import math\n",
    "from torchvision.utils import make_grid\n",
    "import time"
   ]
  },
  {
   "cell_type": "markdown",
   "id": "5754ac58",
   "metadata": {
    "id": "5754ac58"
   },
   "source": [
    "# Helper Functions"
   ]
  },
  {
   "cell_type": "code",
   "execution_count": 2,
   "id": "83ba6869",
   "metadata": {
    "id": "83ba6869"
   },
   "outputs": [],
   "source": [
    "def validate_model(model, val_loader, device):\n",
    "    with torch.no_grad():\n",
    "        num_correct = 0\n",
    "        total = 0\n",
    "        model.eval()\n",
    "        for batch, labels in val_loader:\n",
    "            batch = batch.to(device)\n",
    "            labels = labels.to(device)\n",
    "\n",
    "            pred = model(batch)\n",
    "            num_correct += (pred.argmax(dim=1) == labels).type(torch.float).sum().item()\n",
    "            total += len(labels)\n",
    "        accuracy = (num_correct / total) * 100\n",
    "        return accuracy\n",
    "\n",
    "def test_model(model, test_loader, device):\n",
    "    with torch.no_grad():\n",
    "        num_correct = 0\n",
    "        total = 0\n",
    "        model.eval()\n",
    "        for batch, labels in test_loader:\n",
    "            batch = batch.to(device)\n",
    "            labels = labels.to(device)\n",
    "\n",
    "            pred = model(batch)\n",
    "            num_correct += (pred.argmax(dim=1) == labels).type(torch.float).sum().item()\n",
    "            total += len(labels)\n",
    "        accuracy = (num_correct / total) * 100\n",
    "        return accuracy\n",
    "\n",
    "# def visualize_filters(tensor, title=\"Filters\", num=8):\n",
    "#     tensor = tensor.cpu().detach()\n",
    "#     fig, axs = plt.subplots(1, num, figsize=(num * 2, 2))\n",
    "#     for i in range(num):\n",
    "#         axs[i].imshow(tensor[i, 0, :, :], cmap='viridis')  # Show first channel of each filter\n",
    "#         axs[i].axis('off')\n",
    "#     fig.suptitle(title)\n",
    "#     plt.show()"
   ]
  },
  {
   "cell_type": "markdown",
   "id": "95ffb142",
   "metadata": {
    "id": "95ffb142"
   },
   "source": [
    "# Set up Data Augmentation and Load Data"
   ]
  },
  {
   "cell_type": "code",
   "execution_count": 19,
   "id": "7ba6e3f2",
   "metadata": {
    "id": "7ba6e3f2"
   },
   "outputs": [],
   "source": [
    "# data_transforms = transforms.Compose([\n",
    "#     transforms.RandomChoice([\n",
    "#         transforms.RandomApply([\n",
    "#             transforms.RandomHorizontalFlip(p=1.0)\n",
    "#         ], p=0.4),\n",
    "#         transforms.RandomApply([\n",
    "#             transforms.RandomVerticalFlip(p=1.0)\n",
    "#         ], p=0.4),\n",
    "#     ]),\n",
    "#     transforms.ToTensor()\n",
    "# ])\n",
    "\n",
    "data_transforms = transforms.Compose([\n",
    "    transforms.RandomChoice([\n",
    "        transforms.RandomApply([\n",
    "            transforms.ElasticTransform(alpha=40.0, sigma=8.0)\n",
    "        ], p=0.2),\n",
    "        transforms.RandomApply([\n",
    "            transforms.RandomAffine(degrees=0, shear=20, fill=255)\n",
    "        ], p=0.2),\n",
    "        transforms.RandomApply([\n",
    "            transforms.RandomAffine(degrees=0, scale=(0.8, 1.2), fill=255)\n",
    "        ], p=0.2),\n",
    "        transforms.RandomApply([\n",
    "            transforms.RandomHorizontalFlip(p=1.0)\n",
    "        ], p=0.2),\n",
    "        transforms.RandomApply([\n",
    "            transforms.RandomVerticalFlip(p=1.0)\n",
    "        ], p=0.2),\n",
    "    ]),\n",
    "    transforms.ToTensor()\n",
    "])"
   ]
  },
  {
   "cell_type": "code",
   "execution_count": 20,
   "id": "16b5b4cc",
   "metadata": {
    "id": "16b5b4cc"
   },
   "outputs": [],
   "source": [
    "LABELS = [\"Apple Scab\", \"Apple Black Rot\", \"Apple Cedar Rust\", \"Apple Healthy\", \"Blueberry Healthy\", \"Cherry Healthy\", \"Cherry Powdery Mildew\", \"Corn Cercospora Leaf Spot\", \"Corn Common Rust\", \"Corn Healthy\", \"Corn Northern Leaf Blight\", \"Grape Black Rot\", \"Grape Black Measles\", \"Grape Healthy\", \"Grape Isariopsis Leaf Spot\", \"Orange Haunglonbing\",\n",
    "          \"Peach Bacterial Spot\", \"Peach Healthy\", \"Bell Pepper Bacterial Spot\", \"Bell Pepper Healthy\", \"Potato Early Blight\", \"Potato Healthy\", \"Potato Late Blight\", \"Raspberry Healthy\", \"Soybean Healthy\", \"Squash Powdery Mildew\", \"Strawberry Healthy\", \"Strawberry Leaf Scorch\", \"Tomato Bacterial Spot\", \"Tomato Early Blight\", \"Tomato Healthy\",\n",
    "          \"Tomato Late Blight\", \"Tomato Leaf Mold\", \"Tomato Septoria Leaf Spot\", \"Tomato Spider Mites\", \"Tomato Target Spot\", \"Tomato Mosaic Virus\", \"Tomato Yellow Leaf Curl Virus\"]\n",
    "\n",
    "BATCH_SIZE = 128\n",
    "DEVICE = torch.device(\"cuda\")\n",
    "folder_path = \"PlantVillage\"\n",
    "\n",
    "train_set = ImageFolder(root=folder_path + \"\\Training\", transform=data_transforms)\n",
    "val_set = ImageFolder(root=folder_path + \"\\Validation\", transform=transforms.ToTensor())\n",
    "test_set = ImageFolder(root=folder_path + \"\\Testing\", transform=transforms.ToTensor())\n",
    "\n",
    "train_loader = DataLoader(train_set, batch_size=BATCH_SIZE, shuffle=True, num_workers=12, pin_memory=True)\n",
    "val_loader = DataLoader(val_set, batch_size=BATCH_SIZE, shuffle=False, num_workers=4, pin_memory=True)\n",
    "test_loader = DataLoader(test_set, batch_size=BATCH_SIZE, shuffle=False, num_workers=0, pin_memory=True)"
   ]
  },
  {
   "cell_type": "markdown",
   "id": "33a4a963",
   "metadata": {
    "id": "33a4a963"
   },
   "source": [
    "# Model Construction"
   ]
  },
  {
   "cell_type": "code",
   "execution_count": 21,
   "id": "b78df5a4",
   "metadata": {
    "id": "b78df5a4"
   },
   "outputs": [],
   "source": [
    "class DiseasedCNN(nn.Module):\n",
    "    def __init__(self):\n",
    "        super().__init__()\n",
    "\n",
    "        resnet50 = torchvision.models.resnet50(weights=torchvision.models.ResNet50_Weights.DEFAULT).to(device=DEVICE)\n",
    "        self.backbone = nn.Sequential(*list(resnet50.children())[:-2]).to(device=DEVICE) # Get everything up to the avg pooling layer\n",
    "        # Freeze the base\n",
    "        for param in resnet50.parameters():\n",
    "            param.requires_grad = False\n",
    "\n",
    "        conv1 = nn.Conv2d(2048, 512, kernel_size=3, padding=1).to(device=DEVICE)\n",
    "        relu1 = nn.ReLU().to(device=DEVICE)\n",
    "\n",
    "        conv2 = nn.Conv2d(512, 256, kernel_size=3, padding=1).to(device=DEVICE)\n",
    "        batchnorm = nn.BatchNorm2d(256).to(device=DEVICE)\n",
    "        relu2 = nn.ReLU().to(device=DEVICE)\n",
    "\n",
    "        pool = nn.AdaptiveAvgPool2d((1, 1)).to(DEVICE)\n",
    "        flatten = nn.Flatten().to(DEVICE)\n",
    "\n",
    "        fcn1 = nn.Linear(256, 64).to(device=DEVICE)\n",
    "        relu3 = nn.ReLU().to(device=DEVICE)\n",
    "\n",
    "        fcn2 = nn.Linear(64, 38).to(device=DEVICE)\n",
    "        softmax = nn.Softmax().to(DEVICE)\n",
    "\n",
    "        self.layers = nn.Sequential(conv1, relu1, conv2, batchnorm, relu2, pool, flatten, fcn1, relu3, fcn2, softmax).to(DEVICE)\n",
    "\n",
    "        # print(self.backbone)\n",
    "        # print()\n",
    "        # print()\n",
    "        # print(self.layers)\n",
    "\n",
    "    def forward(self, x):\n",
    "        x = self.backbone(x).to(DEVICE)\n",
    "        return self.layers(x).to(DEVICE)"
   ]
  },
  {
   "cell_type": "markdown",
   "id": "ecbec95a",
   "metadata": {
    "id": "ecbec95a"
   },
   "source": [
    "# Train Model"
   ]
  },
  {
   "cell_type": "markdown",
   "id": "ba6c6e21",
   "metadata": {
    "id": "ba6c6e21"
   },
   "source": [
    "### Perform Training"
   ]
  },
  {
   "cell_type": "code",
   "execution_count": 74,
   "id": "6223912a",
   "metadata": {
    "id": "6223912a",
    "outputId": "d0a4add6-2d4b-4864-d1ac-a39e42f679c5"
   },
   "outputs": [
    {
     "name": "stdout",
     "output_type": "stream",
     "text": [
      "Epoch: 31\n"
     ]
    },
    {
     "name": "stderr",
     "output_type": "stream",
     "text": [
      "C:\\Users\\jessyw\\AppData\\Roaming\\Python\\Python310\\site-packages\\torch\\nn\\modules\\module.py:1739: UserWarning: Implicit dimension choice for softmax has been deprecated. Change the call to include dim=X as an argument.\n",
      "  return self._call_impl(*args, **kwargs)\n"
     ]
    },
    {
     "name": "stdout",
     "output_type": "stream",
     "text": [
      "Validation Accuracy 94.91293020704785\n",
      "Loss: 2.749774024767034\n",
      "LR: [0.0001]\n",
      "Epoch: 32\n",
      "Validation Accuracy 95.40655423008364\n",
      "Loss: 2.7182418318355785\n",
      "LR: [0.0001]\n",
      "Epoch: 33\n",
      "Validation Accuracy 95.4888249005896\n",
      "Loss: 2.7133444526616266\n",
      "LR: [0.0001]\n",
      "Epoch: 34\n",
      "Validation Accuracy 95.74934869052515\n",
      "Loss: 2.712616984283223\n",
      "LR: [7e-05]\n",
      "Epoch: 35\n",
      "Validation Accuracy 95.77677224736048\n",
      "Loss: 2.7115837433758903\n",
      "LR: [7e-05]\n"
     ]
    }
   ],
   "source": [
    "CONTINUE_TRAINING = True\n",
    "\n",
    "NUM_EPOCHS = 16\n",
    "learning_rate = 0.0005\n",
    "adam_beta1 = 0.9\n",
    "adam_beta2 = 0.999\n",
    "\n",
    "model = DiseasedCNN()\n",
    "\n",
    "model.train()\n",
    "optimizer = torch.optim.Adam(params=model.parameters(), lr=learning_rate, betas=(adam_beta1, adam_beta2))\n",
    "criterion = nn.CrossEntropyLoss()\n",
    "\n",
    "start_epoch = 0\n",
    "\n",
    "# For picking up training later\n",
    "if CONTINUE_TRAINING:\n",
    "    checkpoint = torch.load(\"model_92_optimizer_state.pth\")\n",
    "    model.load_state_dict(checkpoint['model_state_dict'])\n",
    "    optimizer.load_state_dict(checkpoint['optimizer_state_dict'])\n",
    "    start_epoch = checkpoint['epoch'] + 1\n",
    "    loss = checkpoint['loss']\n",
    "    model.train()\n",
    "# For picking up training later\n",
    "# PUT SOMETHING IN TO TIME EACH EPOCH\n",
    "epoch_loss = []\n",
    "validation_acc = []\n",
    "\n",
    "scheduler = torch.optim.lr_scheduler.ReduceLROnPlateau(optimizer, 'max', patience=2, threshold=1e-1, factor=0.7)\n",
    "\n",
    "model.to(DEVICE)\n",
    "\n",
    "for epoch in range(start_epoch, start_epoch + 5):\n",
    "    train_loss = []\n",
    "    print(\"Epoch: %d\" % epoch)\n",
    "    for step_num, (batch, labels) in enumerate(train_loader):\n",
    "        batch = batch.to(DEVICE)\n",
    "        labels = labels.to(DEVICE)\n",
    "\n",
    "        pred = model(batch)\n",
    "\n",
    "        optimizer.zero_grad()\n",
    "        loss = criterion(pred, labels)\n",
    "\n",
    "        loss.backward()\n",
    "        optimizer.step()\n",
    "\n",
    "        # if (step_num + 1) % 20 == 0:\n",
    "        #     print(\"Batch %d\" % step_num)\n",
    "\n",
    "        train_loss.append(loss.item())\n",
    "    # Perform validation and store accuracy\n",
    "    validation_accuracy = validate_model(model=model, val_loader=val_loader, device=DEVICE)\n",
    "    validation_acc.append(validation_accuracy)\n",
    "\n",
    "    # Track average loss for each epoch\n",
    "    epoch_loss.append(sum(train_loss) / len(train_loss))\n",
    "    scheduler.step(epoch_loss[-1])\n",
    "    print(f\"Validation Accuracy {validation_accuracy}\")\n",
    "    print(f\"Loss: {epoch_loss[-1]}\")\n",
    "    print(f\"LR: {scheduler.get_last_lr()}\")"
   ]
  },
  {
   "cell_type": "markdown",
   "id": "c1953661",
   "metadata": {},
   "source": [
    "### Plot Loss"
   ]
  },
  {
   "cell_type": "code",
   "execution_count": 75,
   "id": "eaf85dca",
   "metadata": {
    "id": "eaf85dca",
    "outputId": "00e0670a-472d-488f-f264-069fe7ec7322"
   },
   "outputs": [
    {
     "data": {
      "image/png": "[encoded data removed]",
      "text/plain": [
       "<Figure size 640x480 with 1 Axes>"
      ]
     },
     "metadata": {},
     "output_type": "display_data"
    }
   ],
   "source": [
    "plt.title(\"Training Loss History\")\n",
    "plt.xlabel(\"Epoch\")\n",
    "plt.ylabel(\"Average Loss\")\n",
    "plt.plot(epoch_loss)\n",
    "plt.show()"
   ]
  },
  {
   "cell_type": "markdown",
   "id": "8c070236",
   "metadata": {},
   "source": [
    "### Plot Validation Accuracy"
   ]
  },
  {
   "cell_type": "code",
   "execution_count": 76,
   "id": "c00be35d",
   "metadata": {
    "id": "c00be35d",
    "outputId": "7351cdb6-209b-4dcf-a22b-4657ce821d3c"
   },
   "outputs": [
    {
     "data": {
      "image/png": "[encoded data removed]",
      "text/plain": [
       "<Figure size 640x480 with 1 Axes>"
      ]
     },
     "metadata": {},
     "output_type": "display_data"
    }
   ],
   "source": [
    "plt.title(\"Validation Accuracy\")\n",
    "plt.xlabel(\"Step (Size = 13)\")\n",
    "plt.ylabel(\"Accuracy (%)\")\n",
    "plt.plot(validation_acc)\n",
    "plt.show()"
   ]
  },
  {
   "cell_type": "markdown",
   "id": "accc222b",
   "metadata": {},
   "source": [
    "### Visualize Weights"
   ]
  },
  {
   "cell_type": "code",
   "execution_count": null,
   "id": "4ab5e84a",
   "metadata": {},
   "outputs": [
    {
     "ename": "AttributeError",
     "evalue": "'Conv2d' object has no attribute 'weights'",
     "output_type": "error",
     "traceback": [
      "\u001b[1;31m---------------------------------------------------------------------------\u001b[0m",
      "\u001b[1;31mAttributeError\u001b[0m                            Traceback (most recent call last)",
      "Cell \u001b[1;32mIn[59], line 5\u001b[0m\n\u001b[0;32m      3\u001b[0m bottleneck \u001b[38;5;241m=\u001b[39m model\u001b[38;5;241m.\u001b[39mbackbone[\u001b[38;5;241m-\u001b[39m\u001b[38;5;241m1\u001b[39m][\u001b[38;5;241m1\u001b[39m]\n\u001b[0;32m      4\u001b[0m conv \u001b[38;5;241m=\u001b[39m bottleneck\u001b[38;5;241m.\u001b[39mconv1\n\u001b[1;32m----> 5\u001b[0m filters \u001b[38;5;241m=\u001b[39m \u001b[43mconv\u001b[49m\u001b[38;5;241;43m.\u001b[39;49m\u001b[43mweights\u001b[49m()\n\u001b[0;32m      7\u001b[0m nrow \u001b[38;5;241m=\u001b[39m math\u001b[38;5;241m.\u001b[39mceil(math\u001b[38;5;241m.\u001b[39msqrt(filters\u001b[38;5;241m.\u001b[39mshape[\u001b[38;5;241m0\u001b[39m]))\n\u001b[0;32m      8\u001b[0m grid \u001b[38;5;241m=\u001b[39m make_grid(filters, nrow\u001b[38;5;241m=\u001b[39mnrow, padding\u001b[38;5;241m=\u001b[39m\u001b[38;5;241m1\u001b[39m, normalize\u001b[38;5;241m=\u001b[39m\u001b[38;5;28;01mTrue\u001b[39;00m, scale_each\u001b[38;5;241m=\u001b[39m\u001b[38;5;28;01mTrue\u001b[39;00m)\n",
      "File \u001b[1;32m~\\AppData\\Roaming\\Python\\Python310\\site-packages\\torch\\nn\\modules\\module.py:1928\u001b[0m, in \u001b[0;36mModule.__getattr__\u001b[1;34m(self, name)\u001b[0m\n\u001b[0;32m   1926\u001b[0m     \u001b[38;5;28;01mif\u001b[39;00m name \u001b[38;5;129;01min\u001b[39;00m modules:\n\u001b[0;32m   1927\u001b[0m         \u001b[38;5;28;01mreturn\u001b[39;00m modules[name]\n\u001b[1;32m-> 1928\u001b[0m \u001b[38;5;28;01mraise\u001b[39;00m \u001b[38;5;167;01mAttributeError\u001b[39;00m(\n\u001b[0;32m   1929\u001b[0m     \u001b[38;5;124mf\u001b[39m\u001b[38;5;124m\"\u001b[39m\u001b[38;5;124m'\u001b[39m\u001b[38;5;132;01m{\u001b[39;00m\u001b[38;5;28mtype\u001b[39m(\u001b[38;5;28mself\u001b[39m)\u001b[38;5;241m.\u001b[39m\u001b[38;5;18m__name__\u001b[39m\u001b[38;5;132;01m}\u001b[39;00m\u001b[38;5;124m'\u001b[39m\u001b[38;5;124m object has no attribute \u001b[39m\u001b[38;5;124m'\u001b[39m\u001b[38;5;132;01m{\u001b[39;00mname\u001b[38;5;132;01m}\u001b[39;00m\u001b[38;5;124m'\u001b[39m\u001b[38;5;124m\"\u001b[39m\n\u001b[0;32m   1930\u001b[0m )\n",
      "\u001b[1;31mAttributeError\u001b[0m: 'Conv2d' object has no attribute 'weights'"
     ]
    }
   ],
   "source": [
    "# THIS NEEDS TO BE TESTED\n",
    "\n",
    "bottleneck = model.backbone[-1][1]\n",
    "conv = bottleneck.conv1\n",
    "filters = conv.weights\n",
    "\n",
    "nrow = math.ceil(math.sqrt(filters.shape[0]))\n",
    "grid = make_grid(filters, nrow=nrow, padding=1, normalize=True, scale_each=True)\n",
    "plt.imshow(grid.to(device='cpu').permute(1, 2, 0))\n",
    "plt.axis('off')\n",
    "plt.gcf().set_size_inches(5, 5)\n",
    "plt.show()"
   ]
  },
  {
   "cell_type": "markdown",
   "id": "cefaad9c",
   "metadata": {
    "id": "cefaad9c"
   },
   "source": [
    "# Test Model"
   ]
  },
  {
   "cell_type": "code",
   "execution_count": 77,
   "id": "25651749",
   "metadata": {
    "id": "25651749",
    "outputId": "0411f4b7-65fb-4c71-efc3-f2c8fd7dd630"
   },
   "outputs": [
    {
     "name": "stdout",
     "output_type": "stream",
     "text": [
      "Model accuracy: 96.048206\n"
     ]
    }
   ],
   "source": [
    "accuracy = test_model(model=model, test_loader=test_loader, device=DEVICE)\n",
    "print(\"Model accuracy: %f\" % accuracy)"
   ]
  },
  {
   "cell_type": "code",
   "execution_count": 16,
   "id": "5768d520",
   "metadata": {
    "id": "5768d520"
   },
   "outputs": [],
   "source": [
    "torch.save(model.state_dict(), \"extension_model_74.pth\")"
   ]
  },
  {
   "cell_type": "code",
   "execution_count": 78,
   "id": "2d6c4acf",
   "metadata": {
    "id": "2d6c4acf"
   },
   "outputs": [],
   "source": [
    "torch.save({\n",
    "    'epoch': epoch,\n",
    "    'model_state_dict': model.state_dict(),\n",
    "    'optimizer_state_dict': optimizer.state_dict(),\n",
    "    'loss': loss,\n",
    "}, \"model_96_optimizer_state.pth\")"
   ]
  }
 ],
 "metadata": {
  "colab": {
   "provenance": []
  },
  "kernelspec": {
   "display_name": "Python 3",
   "language": "python",
   "name": "python3"
  },
  "language_info": {
   "codemirror_mode": {
    "name": "ipython",
    "version": 3
   },
   "file_extension": ".py",
   "mimetype": "text/x-python",
   "name": "python",
   "nbconvert_exporter": "python",
   "pygments_lexer": "ipython3",
   "version": "3.10.7"
  }
 },
 "nbformat": 4,
 "nbformat_minor": 5
}
