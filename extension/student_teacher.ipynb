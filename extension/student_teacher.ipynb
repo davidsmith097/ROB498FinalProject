{
 "cells": [
  {
   "cell_type": "markdown",
   "id": "e5494309",
   "metadata": {},
   "source": [
    "# Important Library Imports"
   ]
  },
  {
   "cell_type": "code",
   "execution_count": 10,
   "id": "785a6e1a",
   "metadata": {},
   "outputs": [],
   "source": [
    "import torch\n",
    "import torchvision\n",
    "import torch.nn as nn\n",
    "import torch.optim as optim\n",
    "import torchvision.transforms as transforms\n",
    "from torchvision import models\n",
    "from torchvision.datasets import ImageFolder\n",
    "from torch.utils.data import DataLoader\n",
    "import numpy as np\n",
    "import matplotlib.pyplot as plt\n",
    "import os\n",
    "from torch.utils.data import Dataset\n",
    "import math\n",
    "from torchvision.utils import make_grid\n",
    "import time\n",
    "import pickle\n",
    "import torch.nn.functional"
   ]
  },
  {
   "cell_type": "markdown",
   "id": "27861d16",
   "metadata": {},
   "source": [
    "# Helper Functions"
   ]
  },
  {
   "cell_type": "code",
   "execution_count": 11,
   "id": "77480737",
   "metadata": {},
   "outputs": [],
   "source": [
    "def validate_model(model, val_loader, device):\n",
    "    with torch.no_grad():\n",
    "        num_correct = 0\n",
    "        total = 0\n",
    "        model.eval()\n",
    "        for batch, labels in val_loader:\n",
    "            batch = batch.to(device)\n",
    "            labels = labels.to(device)\n",
    "\n",
    "            pred = model(batch)\n",
    "            num_correct += (pred.argmax(dim=1) == labels).type(torch.float).sum().item()\n",
    "            total += len(labels)\n",
    "        accuracy = (num_correct / total) * 100\n",
    "        return accuracy\n",
    "\n",
    "def test_model(model, test_loader, device):\n",
    "    with torch.no_grad():\n",
    "        num_correct = 0\n",
    "        total = 0\n",
    "        model.eval()\n",
    "        for batch, labels in test_loader:\n",
    "            batch = batch.to(device)\n",
    "            labels = labels.to(device)\n",
    "\n",
    "            pred = model(batch)\n",
    "            num_correct += (pred.argmax(dim=1) == labels).type(torch.float).sum().item()\n",
    "            total += len(labels)\n",
    "        accuracy = (num_correct / total) * 100\n",
    "        return accuracy"
   ]
  },
  {
   "cell_type": "markdown",
   "id": "3ad56cbd",
   "metadata": {},
   "source": [
    "# Load and Augment Dataset"
   ]
  },
  {
   "cell_type": "code",
   "execution_count": null,
   "id": "7c326a36",
   "metadata": {},
   "outputs": [
    {
     "name": "stdout",
     "output_type": "stream",
     "text": [
      "Running on cuda\n"
     ]
    }
   ],
   "source": [
    "# Create Data Augmentation\n",
    "data_transforms = transforms.Compose([\n",
    "    transforms.RandomChoice([\n",
    "        transforms.RandomApply([\n",
    "            transforms.RandomAffine(degrees=0, scale=(0.8, 1.2), fill=255)\n",
    "        ], p=0.2),\n",
    "        transforms.RandomApply([\n",
    "            transforms.RandomHorizontalFlip(p=1.0)\n",
    "        ], p=0.2),\n",
    "        transforms.RandomApply([\n",
    "            transforms.RandomVerticalFlip(p=1.0)\n",
    "        ], p=0.2),\n",
    "    ]),\n",
    "    transforms.ToTensor()\n",
    "])\n",
    "\n",
    "# transforms.RandomApply([\n",
    "#             transforms.ElasticTransform(alpha=40.0, sigma=8.0)\n",
    "#         ], p=0.2),\n",
    "#         transforms.RandomApply([\n",
    "#             transforms.RandomAffine(degrees=0, shear=20, fill=255)\n",
    "#         ], p=0.2),\n",
    "\n",
    "\n",
    "# Load Training, Validation, and Testing Images\n",
    "LABELS = [\"Apple Scab\", \"Apple Black Rot\", \"Apple Cedar Rust\", \"Apple Healthy\", \"Blueberry Healthy\", \"Cherry Healthy\", \"Cherry Powdery Mildew\", \"Corn Cercospora Leaf Spot\", \"Corn Common Rust\", \"Corn Healthy\", \"Corn Northern Leaf Blight\", \"Grape Black Rot\", \"Grape Black Measles\", \"Grape Healthy\", \"Grape Isariopsis Leaf Spot\", \"Orange Haunglonbing\",\n",
    "          \"Peach Bacterial Spot\", \"Peach Healthy\", \"Bell Pepper Bacterial Spot\", \"Bell Pepper Healthy\", \"Potato Early Blight\", \"Potato Healthy\", \"Potato Late Blight\", \"Raspberry Healthy\", \"Soybean Healthy\", \"Squash Powdery Mildew\", \"Strawberry Healthy\", \"Strawberry Leaf Scorch\", \"Tomato Bacterial Spot\", \"Tomato Early Blight\", \"Tomato Healthy\",\n",
    "          \"Tomato Late Blight\", \"Tomato Leaf Mold\", \"Tomato Septoria Leaf Spot\", \"Tomato Spider Mites\", \"Tomato Target Spot\", \"Tomato Mosaic Virus\", \"Tomato Yellow Leaf Curl Virus\"]\n",
    "\n",
    "BATCH_SIZE = 64\n",
    "DEVICE = torch.device(\"cuda\") if torch.cuda.is_available() else torch.device(\"cpu\")\n",
    "print(f\"Running on {DEVICE}\")\n",
    "folder_path = \"PlantVillage\"\n",
    "\n",
    "train_set = ImageFolder(root=folder_path + \"\\Training\", transform=data_transforms)\n",
    "val_set = ImageFolder(root=folder_path + \"\\Validation\", transform=transforms.ToTensor())\n",
    "test_set = ImageFolder(root=folder_path + \"\\Testing\", transform=transforms.ToTensor())\n",
    "\n",
    "train_loader = DataLoader(train_set, batch_size=BATCH_SIZE, shuffle=True, num_workers=12, pin_memory=True)\n",
    "val_loader = DataLoader(val_set, batch_size=BATCH_SIZE, shuffle=False, num_workers=4, pin_memory=True)\n",
    "test_loader = DataLoader(test_set, batch_size=BATCH_SIZE, shuffle=False, num_workers=0, pin_memory=True)"
   ]
  },
  {
   "cell_type": "markdown",
   "id": "477c6d09",
   "metadata": {},
   "source": [
    "# Construct Student"
   ]
  },
  {
   "cell_type": "code",
   "execution_count": 36,
   "id": "dea01975",
   "metadata": {},
   "outputs": [],
   "source": [
    "class StudentModel(nn.Module):\n",
    "    def __init__(self):\n",
    "        super().__init__()\n",
    "\n",
    "        conv1 = nn.Conv2d(in_channels=3, out_channels=32, kernel_size=3, padding=1).to(DEVICE)\n",
    "        relu1 = nn.LeakyReLU().to(DEVICE)\n",
    "        pool1 = nn.MaxPool2d(kernel_size=2).to(DEVICE)\n",
    "\n",
    "        conv2 = nn.Conv2d(in_channels=32, out_channels=64, kernel_size=3, padding=1).to(DEVICE)\n",
    "        relu2 = nn.LeakyReLU().to(DEVICE)\n",
    "        pool2 = nn.MaxPool2d(kernel_size=2).to(DEVICE)\n",
    "\n",
    "        conv3 = nn.Conv2d(in_channels=64, out_channels=128, kernel_size=3, padding=1).to(DEVICE)\n",
    "        relu3 = nn.LeakyReLU().to(DEVICE)\n",
    "        Apool = nn.AdaptiveAvgPool2d(1).to(DEVICE)\n",
    "        \n",
    "        flatten = nn.Flatten().to(DEVICE)\n",
    "\n",
    "        fcn1 = nn.Linear(128, 38).to(DEVICE)\n",
    "        # softmax = nn.Softmax().to(DEVICE)\n",
    "\n",
    "        self.layers = nn.Sequential(conv1, relu1, pool1, conv2, relu2, pool2, conv3, relu3, Apool, flatten, fcn1).to(DEVICE)\n",
    "\n",
    "    def forward(self, x):\n",
    "        return self.layers(x).to(DEVICE)\n",
    "\n",
    "def distillation_loss(student_pred, teacher_pred, labels, T, alpha):\n",
    "    # Calculate soft targets\n",
    "    soft_loss = nn.functional.kl_div(nn.functional.log_softmax(student_pred / T, dim=1), nn.functional.softmax(teacher_pred / T, dim=1), reduction='batchmean') * (T * T)\n",
    "\n",
    "    # Calculate soft targets\n",
    "    criterion = nn.CrossEntropyLoss()\n",
    "    hard_loss = criterion(student_pred, labels)\n",
    "\n",
    "    # Calculate total loss\n",
    "    loss = alpha * hard_loss + (1 - alpha) * soft_loss\n",
    "\n",
    "    return loss"
   ]
  },
  {
   "cell_type": "markdown",
   "id": "a6dd8c25",
   "metadata": {},
   "source": [
    "# Train Student"
   ]
  },
  {
   "cell_type": "code",
   "execution_count": 37,
   "id": "16d5145d",
   "metadata": {},
   "outputs": [
    {
     "name": "stdout",
     "output_type": "stream",
     "text": [
      "Epoch: 0\n",
      "28.835870012340603\n",
      "16.415542296802297\n",
      "Epoch: 1\n",
      "38.17359111476758\n",
      "13.89003774138058\n",
      "Epoch: 2\n",
      "44.68668586315645\n",
      "11.977862829320571\n",
      "Epoch: 3\n",
      "51.44659262306321\n",
      "10.717417649661794\n",
      "Epoch: 4\n",
      "54.600301659125186\n",
      "9.733371829986572\n",
      "Epoch: 5\n",
      "57.04099821746881\n",
      "9.079883945689481\n",
      "Epoch: 6\n",
      "60.09872480460716\n",
      "8.420035871337442\n",
      "Epoch: 7\n",
      "62.621692033456746\n",
      "7.879515357578502\n",
      "Epoch: 8\n",
      "66.00850130261895\n",
      "7.4803088300368366\n",
      "Epoch: 9\n",
      "66.29644864938983\n",
      "7.135344495492823\n",
      "Epoch: 10\n",
      "67.57164404223228\n",
      "6.932611851131215\n",
      "Epoch: 11\n",
      "68.62745098039215\n",
      "6.655470975707559\n",
      "Epoch: 12\n",
      "69.57356369121075\n",
      "6.480896015728221\n",
      "Epoch: 13\n",
      "69.65583436171671\n",
      "6.340228173312019\n",
      "Epoch: 14\n",
      "70.87618264088852\n",
      "6.205110865480759\n",
      "Epoch: 15\n",
      "71.8634306869601\n",
      "6.061181848890641\n",
      "Epoch: 16\n",
      "71.78116001645414\n",
      "5.954630216430215\n",
      "Epoch: 17\n",
      "72.57644316467847\n",
      "5.820147027688868\n",
      "Epoch: 18\n",
      "73.48142054024407\n",
      "5.718623507724089\n",
      "Epoch: 19\n",
      "73.27574386397916\n",
      "5.616482040461372\n",
      "Epoch: 20\n",
      "74.60578637049225\n",
      "5.512629030732548\n",
      "Epoch: 21\n",
      "73.98875634169751\n",
      "5.424826440390419\n",
      "Epoch: 22\n",
      "75.08569861511037\n",
      "5.337690559555503\n",
      "Epoch: 23\n",
      "76.03181132592897\n",
      "5.2517154917997475\n",
      "Epoch: 24\n",
      "76.60770601947073\n",
      "5.203759220067193\n",
      "Epoch: 25\n",
      "76.2649115590292\n",
      "5.12234706808539\n",
      "Epoch: 26\n",
      "77.526395173454\n",
      "5.054948657400468\n",
      "Epoch: 27\n",
      "76.99163581516522\n",
      "5.009763094958137\n",
      "Epoch: 28\n",
      "77.95146030440148\n",
      "4.925204446736504\n",
      "Epoch: 29\n",
      "77.526395173454\n",
      "4.850923288569731\n",
      "Epoch: 30\n",
      "76.84080625257096\n",
      "4.800375796065611\n",
      "Epoch: 31\n",
      "79.40490881667353\n",
      "4.755439885924845\n",
      "Epoch: 32\n",
      "77.78691896338955\n",
      "4.669721109025619\n",
      "Epoch: 33\n",
      "78.95242012889072\n",
      "4.626356852755827\n",
      "Epoch: 34\n",
      "78.7467434526258\n",
      "4.582938165524427\n",
      "Epoch: 35\n",
      "79.65172082819142\n",
      "4.540753090381623\n",
      "Epoch: 36\n",
      "78.18456053750171\n",
      "4.489424185893115\n",
      "Epoch: 37\n",
      "79.26779103249692\n",
      "4.4380441511378566\n",
      "Epoch: 38\n",
      "79.58316193610311\n",
      "4.3971454360905815\n",
      "Epoch: 39\n",
      "78.73303167420815\n",
      "4.365454858190873\n",
      "Epoch: 40\n",
      "80.04936240230359\n",
      "4.315615758475135\n",
      "Epoch: 41\n",
      "79.76141505553271\n",
      "4.23959220717935\n",
      "Epoch: 42\n",
      "80.70752776635129\n",
      "4.211643047893749\n",
      "Epoch: 43\n",
      "80.96805155628685\n",
      "4.1674651482525995\n",
      "Epoch: 44\n",
      "80.58412176059235\n",
      "4.153030176723704\n",
      "Epoch: 45\n",
      "81.91416426710543\n",
      "4.079637341639575\n",
      "Epoch: 46\n",
      "81.31084601672836\n",
      "4.055734561471378\n",
      "Epoch: 47\n",
      "80.99547511312217\n",
      "4.041789832535912\n",
      "Epoch: 48\n",
      "81.80447003976415\n",
      "3.9883138432222256\n",
      "Epoch: 49\n",
      "81.13259289729878\n",
      "3.948883301370284\n"
     ]
    }
   ],
   "source": [
    "from DiseasedCNN import DiseasedCNN\n",
    "\n",
    "NUM_EPOCHS = 50\n",
    "\n",
    "# Load teacher\n",
    "teacher = DiseasedCNN()\n",
    "teacher.load_state_dict(torch.load('DiseasedCNN_statedict.pth'))\n",
    "teacher.layers[-1] = nn.Identity()\n",
    "teacher.eval().to(DEVICE)\n",
    "\n",
    "\n",
    "# Init hyperparameters\n",
    "learning_rate = 0.0005\n",
    "adam_beta1 = 0.9\n",
    "adam_beta2 = 0.999\n",
    "T = 4\n",
    "ALPHA = 0.7\n",
    "# Create student\n",
    "student = StudentModel()\n",
    "student.train()\n",
    "optimizer = torch.optim.Adam(params=student.parameters(), lr=learning_rate, betas=(adam_beta1, adam_beta2), weight_decay=1e-5)\n",
    "scheduler = torch.optim.lr_scheduler.ExponentialLR(optimizer, gamma=0.9)\n",
    "\n",
    "epoch_loss = []\n",
    "validation_acc = []\n",
    "\n",
    "student.to(DEVICE)\n",
    "for epoch in range(NUM_EPOCHS):\n",
    "    train_loss = []\n",
    "    print(\"Epoch: %d\" % epoch)\n",
    "    for step_num, (batch, labels) in enumerate(train_loader):\n",
    "        batch = batch.to(DEVICE)\n",
    "        labels = labels.to(DEVICE)\n",
    "\n",
    "        student_pred = student(batch)\n",
    "\n",
    "        with torch.no_grad():\n",
    "            teacher_pred = teacher(batch)\n",
    "\n",
    "        loss = distillation_loss(student_pred, teacher_pred, labels, T, ALPHA)\n",
    "\n",
    "        optimizer.zero_grad()\n",
    "        loss.backward()\n",
    "        optimizer.step()\n",
    "    \n",
    "        train_loss.append(loss.item())\n",
    "\n",
    "    # Perform validation and store accuracy\n",
    "    validation_accuracy = validate_model(student, val_loader, DEVICE)\n",
    "    validation_acc.append(validation_accuracy)\n",
    "    print(validation_accuracy)\n",
    "\n",
    "    # print(test_model(student, train_loader, DEVICE))\n",
    "\n",
    "    if epoch != 0 and epoch % 10 == 0:\n",
    "        scheduler.step()\n",
    "\n",
    "    # Track average loss for each epoch\n",
    "    print(sum(train_loss) / len(train_loss))\n",
    "    epoch_loss.append(sum(train_loss) / len(train_loss))"
   ]
  },
  {
   "cell_type": "markdown",
   "id": "c0b70e15",
   "metadata": {},
   "source": [
    "### Plot Loss"
   ]
  },
  {
   "cell_type": "code",
   "execution_count": 38,
   "id": "e0a1479e",
   "metadata": {},
   "outputs": [
    {
     "data": {
      "image/png": "[encoded data removed]",
      "text/plain": [
       "<Figure size 640x480 with 1 Axes>"
      ]
     },
     "metadata": {},
     "output_type": "display_data"
    }
   ],
   "source": [
    "plt.title(\"Training Loss History\")\n",
    "plt.xlabel(\"Epoch\")\n",
    "plt.ylabel(\"Average Loss\")\n",
    "plt.plot(epoch_loss)\n",
    "plt.savefig(\"finalmodelinfo/StudentModel_TrainingLoss\")\n",
    "plt.show()"
   ]
  },
  {
   "cell_type": "markdown",
   "id": "21323a45",
   "metadata": {},
   "source": [
    "### Plot Validation Accuracy"
   ]
  },
  {
   "cell_type": "code",
   "execution_count": 39,
   "id": "b94d47c6",
   "metadata": {},
   "outputs": [
    {
     "data": {
      "image/png": "[encoded data removed]",
      "text/plain": [
       "<Figure size 640x480 with 1 Axes>"
      ]
     },
     "metadata": {},
     "output_type": "display_data"
    }
   ],
   "source": [
    "plt.title(\"Validation Accuracy\")\n",
    "plt.xlabel(\"Step (Size = 13)\")\n",
    "plt.ylabel(\"Accuracy (%)\")\n",
    "plt.plot(validation_acc)\n",
    "plt.savefig(\"finalmodelinfo/StudentModel_ValAcc\")\n",
    "plt.show()"
   ]
  },
  {
   "cell_type": "markdown",
   "id": "4d619304",
   "metadata": {},
   "source": [
    "# Test Model"
   ]
  },
  {
   "cell_type": "code",
   "execution_count": 40,
   "id": "ff0834e4",
   "metadata": {},
   "outputs": [
    {
     "name": "stdout",
     "output_type": "stream",
     "text": [
      "Model accuracy: 80.521300\n"
     ]
    }
   ],
   "source": [
    "accuracy = test_model(model=student, test_loader=test_loader, device=DEVICE)\n",
    "print(\"Model accuracy: %f\" % accuracy)"
   ]
  },
  {
   "cell_type": "markdown",
   "id": "948bfb84",
   "metadata": {},
   "source": [
    "### Save Model"
   ]
  },
  {
   "cell_type": "markdown",
   "id": "47fc65de",
   "metadata": {},
   "source": [
    "##### Save Full Model"
   ]
  },
  {
   "cell_type": "code",
   "execution_count": 41,
   "id": "2a7c672a",
   "metadata": {},
   "outputs": [],
   "source": [
    "torch.save(student, 'finalmodelinfo/StudentModel.pth')"
   ]
  },
  {
   "cell_type": "markdown",
   "id": "aec53a32",
   "metadata": {},
   "source": [
    "##### Save Model State Dict"
   ]
  },
  {
   "cell_type": "code",
   "execution_count": 42,
   "id": "f26646c6",
   "metadata": {},
   "outputs": [],
   "source": [
    "torch.save(student.state_dict(), \"finalmodelinfo/StudentModel_statedict.pth\")"
   ]
  },
  {
   "cell_type": "markdown",
   "id": "8c471890",
   "metadata": {},
   "source": [
    "##### Save Optimizer State"
   ]
  },
  {
   "cell_type": "code",
   "execution_count": 43,
   "id": "9f1a8058",
   "metadata": {},
   "outputs": [],
   "source": [
    "torch.save({\n",
    "    'epoch': epoch,\n",
    "    'model_state_dict': student.state_dict(),\n",
    "    'optimizer_state_dict': optimizer.state_dict(),\n",
    "    'loss': loss,\n",
    "}, \"studentmodel_XX_optimizer_state.pth\")"
   ]
  },
  {
   "cell_type": "markdown",
   "id": "c242a78a",
   "metadata": {},
   "source": [
    "##### Save Training Info"
   ]
  },
  {
   "cell_type": "code",
   "execution_count": 44,
   "id": "a93310ef",
   "metadata": {},
   "outputs": [],
   "source": [
    "file_path = \"finalmodelinfo/StudentModel_training_info.pickle\"\n",
    "info = {}\n",
    "info[\"epoch_loss\"] = epoch_loss\n",
    "info[\"validation_acc\"] = validation_acc\n",
    "with open(file_path, \"wb\") as file:\n",
    "    pickle.dump(info, file)"
   ]
  }
 ],
 "metadata": {
  "kernelspec": {
   "display_name": "Python 3",
   "language": "python",
   "name": "python3"
  },
  "language_info": {
   "codemirror_mode": {
    "name": "ipython",
    "version": 3
   },
   "file_extension": ".py",
   "mimetype": "text/x-python",
   "name": "python",
   "nbconvert_exporter": "python",
   "pygments_lexer": "ipython3",
   "version": "3.10.7"
  }
 },
 "nbformat": 4,
 "nbformat_minor": 5
}
