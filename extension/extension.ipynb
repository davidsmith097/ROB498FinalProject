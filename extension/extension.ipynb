{
 "cells": [
  {
   "cell_type": "markdown",
   "id": "fb58d26e",
   "metadata": {},
   "source": [
    "# Important Library Imports"
   ]
  },
  {
   "cell_type": "code",
   "execution_count": 1,
   "id": "29655322",
   "metadata": {},
   "outputs": [],
   "source": [
    "import torch\n",
    "import torchvision\n",
    "import torch.nn as nn\n",
    "import torch.optim as optim\n",
    "import torchvision.transforms as transforms\n",
    "from torchvision import models\n",
    "from torchvision.datasets import ImageFolder\n",
    "from torch.utils.data import DataLoader\n",
    "import numpy as np\n",
    "import matplotlib.pyplot as plt\n",
    "import os\n",
    "from torch.utils.data import Dataset"
   ]
  },
  {
   "cell_type": "markdown",
   "id": "5754ac58",
   "metadata": {},
   "source": [
    "# Helper Functions"
   ]
  },
  {
   "cell_type": "code",
   "execution_count": 3,
   "id": "83ba6869",
   "metadata": {},
   "outputs": [],
   "source": [
    "def validate_model(model, val_loader, device):\n",
    "    with torch.no_grad():\n",
    "        num_correct = 0\n",
    "        total = 0\n",
    "        model.eval()\n",
    "        for batch, labels in val_loader:\n",
    "            batch = batch.to(device)\n",
    "            labels = labels.to(device)\n",
    "            \n",
    "            pred = model(batch)\n",
    "            num_correct += (pred.argmax(dim=1) == labels).type(torch.float).sum().item()\n",
    "            total += len(labels)\n",
    "        accuracy = (num_correct / total) * 100\n",
    "        return accuracy\n",
    "\n",
    "def test_model(model, test_loader, device):\n",
    "    with torch.no_grad():\n",
    "        num_correct = 0\n",
    "        total = 0\n",
    "        model.eval()\n",
    "        for batch, labels in test_loader:\n",
    "            batch = batch.to(device)\n",
    "            labels = labels.to(device)\n",
    "            \n",
    "            pred = model(batch)\n",
    "            num_correct += (pred.argmax(dim=1) == labels).type(torch.float).sum().item()\n",
    "            total += len(labels)\n",
    "        accuracy = (num_correct / total) * 100\n",
    "        return accuracy\n",
    "    \n",
    "# def visualize_filters(tensor, title=\"Filters\", num=8):\n",
    "#     tensor = tensor.cpu().detach()\n",
    "#     fig, axs = plt.subplots(1, num, figsize=(num * 2, 2))\n",
    "#     for i in range(num):\n",
    "#         axs[i].imshow(tensor[i, 0, :, :], cmap='viridis')  # Show first channel of each filter\n",
    "#         axs[i].axis('off')\n",
    "#     fig.suptitle(title)\n",
    "#     plt.show()"
   ]
  },
  {
   "cell_type": "markdown",
   "id": "95ffb142",
   "metadata": {},
   "source": [
    "# Set up Data Augmentation and Load Data"
   ]
  },
  {
   "cell_type": "code",
   "execution_count": 4,
   "id": "7ba6e3f2",
   "metadata": {},
   "outputs": [],
   "source": [
    "# data_transforms = transforms.Compose([\n",
    "#     transforms.RandomChoice([\n",
    "#         transforms.RandomApply([\n",
    "#             transforms.RandomHorizontalFlip(p=1.0)\n",
    "#         ], p=0.4),\n",
    "#         transforms.RandomApply([\n",
    "#             transforms.RandomVerticalFlip(p=1.0)\n",
    "#         ], p=0.4),\n",
    "#     ]),\n",
    "#     transforms.ToTensor()\n",
    "# ])\n",
    "\n",
    "data_transforms = transforms.Compose([\n",
    "    transforms.RandomChoice([\n",
    "        transforms.RandomApply([\n",
    "            transforms.ElasticTransform(alpha=40.0, sigma=8.0)\n",
    "        ], p=0.2),\n",
    "        transforms.RandomApply([\n",
    "            transforms.RandomAffine(degrees=0, shear=20, fill=255)\n",
    "        ], p=0.2),\n",
    "        transforms.RandomApply([\n",
    "            transforms.RandomAffine(degrees=0, scale=(0.8, 1.2), fill=255)\n",
    "        ], p=0.2),\n",
    "        transforms.RandomApply([\n",
    "            transforms.RandomHorizontalFlip(p=1.0)\n",
    "        ], p=0.2),\n",
    "        transforms.RandomApply([\n",
    "            transforms.RandomVerticalFlip(p=1.0)\n",
    "        ], p=0.2),\n",
    "    ]),\n",
    "    transforms.ToTensor()\n",
    "])"
   ]
  },
  {
   "cell_type": "code",
   "execution_count": 7,
   "id": "16b5b4cc",
   "metadata": {},
   "outputs": [],
   "source": [
    "LABELS = [\"Apple Scab\", \"Apple Black Rot\", \"Apple Cedar Rust\", \"Apple Healthy\", \"Blueberry Healthy\", \"Cherry Healthy\", \"Cherry Powdery Mildew\", \"Corn Cercospora Leaf Spot\", \"Corn Common Rust\", \"Corn Healthy\", \"Corn Northern Leaf Blight\", \"Grape Black Rot\", \"Grape Black Measles\", \"Grape Healthy\", \"Grape Isariopsis Leaf Spot\", \"Orange Haunglonbing\",\n",
    "          \"Peach Bacterial Spot\", \"Peach Healthy\", \"Bell Pepper Bacterial Spot\", \"Bell Pepper Healthy\", \"Potato Early Blight\", \"Potato Healthy\", \"Potato Late Blight\", \"Raspberry Healthy\", \"Soybean Healthy\", \"Squash Powdery Mildew\", \"Strawberry Healthy\", \"Strawberry Leaf Scorch\", \"Tomato Bacterial Spot\", \"Tomato Early Blight\", \"Tomato Healthy\",\n",
    "          \"Tomato Late Blight\", \"Tomato Leaf Mold\", \"Tomato Septoria Leaf Spot\", \"Tomato Spider Mites\", \"Tomato Target Spot\", \"Tomato Mosaic Virus\", \"Tomato Yellow Leaf Curl Virus\"]\n",
    "\n",
    "BATCH_SIZE = 128\n",
    "DEVICE = torch.device(\"cuda\")\n",
    "folder_path = \"PlantVillage\"\n",
    "\n",
    "train_set = ImageFolder(root=folder_path + \"\\Training\", transform=data_transforms)\n",
    "val_set = ImageFolder(root=folder_path + \"\\Validation\", transform=transforms.ToTensor())\n",
    "test_set = ImageFolder(root=folder_path + \"\\Testing\", transform=transforms.ToTensor())\n",
    "\n",
    "train_loader = DataLoader(train_set, batch_size=BATCH_SIZE, shuffle=True, num_workers=12)\n",
    "val_loader = DataLoader(val_set, batch_size=BATCH_SIZE, shuffle=False, num_workers=4)\n",
    "test_loader = DataLoader(test_set, batch_size=BATCH_SIZE, shuffle=False, num_workers=0)"
   ]
  },
  {
   "cell_type": "markdown",
   "id": "33a4a963",
   "metadata": {},
   "source": [
    "# Model Construction"
   ]
  },
  {
   "cell_type": "code",
   "execution_count": 9,
   "id": "b78df5a4",
   "metadata": {},
   "outputs": [],
   "source": [
    "class DiseasedCNN(nn.Module):\n",
    "    def __init__(self):\n",
    "        super().__init__()\n",
    "\n",
    "        resnet50 = torchvision.models.resnet50(weights=torchvision.models.ResNet50_Weights.DEFAULT).to(device=DEVICE)\n",
    "        self.backbone = nn.Sequential(*list(resnet50.children())[:-2]).to(device=DEVICE) # Get everything up to the avg pooling layer\n",
    "        # Freeze the base\n",
    "        for param in resnet50.parameters():\n",
    "            param.requires_grad = False\n",
    "        \n",
    "        conv1 = nn.Conv2d(2048, 512, kernel_size=3, padding=1).to(device=DEVICE)\n",
    "        relu1 = nn.ReLU().to(device=DEVICE)\n",
    "\n",
    "        conv2 = nn.Conv2d(512, 256, kernel_size=3, padding=1).to(device=DEVICE)\n",
    "        batchnorm = nn.BatchNorm2d(256).to(device=DEVICE)\n",
    "        relu2 = nn.ReLU().to(device=DEVICE)\n",
    "\n",
    "        pool = nn.AdaptiveAvgPool2d((1, 1)).to(DEVICE)\n",
    "        flatten = nn.Flatten().to(DEVICE)\n",
    "        \n",
    "        fcn1 = nn.Linear(256, 64).to(device=DEVICE)\n",
    "        relu3 = nn.ReLU().to(device=DEVICE)\n",
    "\n",
    "        fcn2 = nn.Linear(64, 38).to(device=DEVICE)\n",
    "        softmax = nn.Softmax().to(DEVICE)\n",
    "\n",
    "        self.layers = nn.Sequential(conv1, relu1, conv2, batchnorm, relu2, pool, flatten, fcn1, relu3, fcn2, softmax).to(DEVICE)\n",
    "\n",
    "        # print(self.backbone)\n",
    "        # print()\n",
    "        # print()\n",
    "        # print(self.layers)\n",
    "\n",
    "    def forward(self, x):\n",
    "        x = self.backbone(x).to(DEVICE)\n",
    "        return self.layers(x).to(DEVICE)"
   ]
  },
  {
   "cell_type": "markdown",
   "id": "ecbec95a",
   "metadata": {},
   "source": [
    "# Train Model"
   ]
  },
  {
   "cell_type": "markdown",
   "id": "ba6c6e21",
   "metadata": {},
   "source": [
    "### Perform Training"
   ]
  },
  {
   "cell_type": "code",
   "execution_count": null,
   "id": "6223912a",
   "metadata": {},
   "outputs": [
    {
     "name": "stderr",
     "output_type": "stream",
     "text": [
      "Downloading: \"https://download.pytorch.org/models/resnet50-11ad3fa6.pth\" to C:\\Users\\smitd/.cache\\torch\\hub\\checkpoints\\resnet50-11ad3fa6.pth\n",
      "100.0%\n"
     ]
    },
    {
     "name": "stdout",
     "output_type": "stream",
     "text": [
      "Epoch: 10\n"
     ]
    },
    {
     "name": "stderr",
     "output_type": "stream",
     "text": [
      "C:\\Users\\smitd\\AppData\\Roaming\\Python\\Python310\\site-packages\\torch\\nn\\modules\\module.py:1739: UserWarning: Implicit dimension choice for softmax has been deprecated. Change the call to include dim=X as an argument.\n",
      "  return self._call_impl(*args, **kwargs)\n"
     ]
    },
    {
     "name": "stdout",
     "output_type": "stream",
     "text": [
      "Batch 12\n",
      "Batch 25\n",
      "Batch 38\n",
      "Batch 51\n",
      "Batch 64\n",
      "Batch 77\n",
      "Batch 90\n",
      "Batch 103\n",
      "Batch 116\n",
      "Batch 129\n",
      "Batch 142\n",
      "Batch 155\n",
      "Batch 168\n",
      "Batch 181\n",
      "Batch 194\n",
      "Batch 207\n",
      "Batch 220\n",
      "Batch 233\n",
      "Batch 246\n",
      "Batch 259\n",
      "Batch 272\n",
      "Batch 285\n",
      "Batch 298\n",
      "Batch 311\n",
      "Batch 324\n",
      "Batch 337\n"
     ]
    }
   ],
   "source": [
    "CONTINUE_TRAINING = False\n",
    "\n",
    "NUM_EPOCHS = 11\n",
    "learning_rate = 0.0001\n",
    "adam_beta1 = 0.9\n",
    "adam_beta2 = 0.999\n",
    "\n",
    "model = DiseasedCNN()\n",
    "\n",
    "# model.train() \n",
    "optimizer = torch.optim.Adam(params=model.parameters(), lr=learning_rate, betas=(adam_beta1, adam_beta2))\n",
    "criterion = nn.CrossEntropyLoss()\n",
    "\n",
    "start_epoch = 0\n",
    "\n",
    "# For picking up training later\n",
    "if CONTINUE_TRAINING:\n",
    "    checkpoint = torch.load(\"model_74_optimizer_state.pth\")\n",
    "    model.load_state_dict(checkpoint['model_state_dict'])\n",
    "    optimizer.load_state_dict(checkpoint['optimizer_state_dict'])\n",
    "    start_epoch = checkpoint['epoch'] + 1\n",
    "    loss = checkpoint['loss']\n",
    "    model.train()\n",
    "# For picking up training later\n",
    "\n",
    "epoch_loss = []\n",
    "train_loss = []\n",
    "validaction_acc = []\n",
    "\n",
    "for epoch in range(start_epoch, NUM_EPOCHS):\n",
    "    print(\"Epoch: %d\" % epoch)\n",
    "    for step_num, (batch, labels) in enumerate(train_loader):\n",
    "        batch = batch.to(DEVICE)\n",
    "        labels = labels.to(DEVICE)\n",
    "        \n",
    "        pred = model(batch)\n",
    "\n",
    "        optimizer.zero_grad()\n",
    "        loss = criterion(pred, labels)\n",
    "\n",
    "        loss.backward()\n",
    "        optimizer.step()\n",
    "\n",
    "        if (step_num + 1) % 13 == 0:\n",
    "            print(\"Batch %d\" % step_num)\n",
    "            # Perform validation and store accuracy\n",
    "            validation_accuracy = validate_model(model=model, val_loader=val_loader, device=DEVICE)\n",
    "            validaction_acc.append(validation_accuracy)\n",
    "\n",
    "        train_loss.append(loss.item())\n",
    "\n",
    "\n",
    "    # Track average loss for each epoch\n",
    "    epoch_loss.append(sum(train_loss) / len(train_loss))"
   ]
  },
  {
   "cell_type": "code",
   "execution_count": 19,
   "id": "eaf85dca",
   "metadata": {},
   "outputs": [
    {
     "data": {
      "image/png": "[encoded data removed]",
      "text/plain": [
       "<Figure size 640x480 with 1 Axes>"
      ]
     },
     "metadata": {},
     "output_type": "display_data"
    }
   ],
   "source": [
    "plt.title(\"Training Loss History\")\n",
    "plt.xlabel(\"Epoch\")\n",
    "plt.ylabel(\"Average Loss\")\n",
    "plt.plot(epoch_loss)\n",
    "plt.show()"
   ]
  },
  {
   "cell_type": "code",
   "execution_count": 16,
   "id": "c00be35d",
   "metadata": {},
   "outputs": [
    {
     "data": {
      "image/png": "[encoded data removed]",
      "text/plain": [
       "<Figure size 640x480 with 1 Axes>"
      ]
     },
     "metadata": {},
     "output_type": "display_data"
    }
   ],
   "source": [
    "plt.title(\"Validation Accuracy\")\n",
    "plt.xlabel(\"Step (Size = 13)\")\n",
    "plt.ylabel(\"Accuracy (%)\")\n",
    "plt.plot(validaction_acc)\n",
    "plt.show()"
   ]
  },
  {
   "cell_type": "markdown",
   "id": "cefaad9c",
   "metadata": {},
   "source": [
    "# Test Model"
   ]
  },
  {
   "cell_type": "code",
   "execution_count": 16,
   "id": "25651749",
   "metadata": {},
   "outputs": [
    {
     "name": "stdout",
     "output_type": "stream",
     "text": [
      "Model accuracy: 74.187220\n"
     ]
    }
   ],
   "source": [
    "accuracy = test_model(model=model, test_loader=test_loader, device=DEVICE)\n",
    "print(\"Model accuracy: %f\" % accuracy)"
   ]
  },
  {
   "cell_type": "code",
   "execution_count": 18,
   "id": "5768d520",
   "metadata": {},
   "outputs": [],
   "source": [
    "torch.save(model.state_dict(), \"extension_model_74.pth\")"
   ]
  },
  {
   "cell_type": "code",
   "execution_count": 41,
   "id": "2d6c4acf",
   "metadata": {},
   "outputs": [],
   "source": [
    "torch.save({\n",
    "    'epoch': epoch,\n",
    "    'model_state_dict': model.state_dict(),\n",
    "    'optimizer_state_dict': optimizer.state_dict(),\n",
    "    'loss': loss,\n",
    "}, \"model_74_optimizer_state.pth\")"
   ]
  }
 ],
 "metadata": {
  "kernelspec": {
   "display_name": "Python 3",
   "language": "python",
   "name": "python3"
  },
  "language_info": {
   "codemirror_mode": {
    "name": "ipython",
    "version": 3
   },
   "file_extension": ".py",
   "mimetype": "text/x-python",
   "name": "python",
   "nbconvert_exporter": "python",
   "pygments_lexer": "ipython3",
   "version": "3.10.7"
  }
 },
 "nbformat": 4,
 "nbformat_minor": 5
}
