{
 "cells": [
  {
   "cell_type": "markdown",
   "id": "e5494309",
   "metadata": {},
   "source": [
    "# Important Library Imports"
   ]
  },
  {
   "cell_type": "code",
   "execution_count": 2,
   "id": "785a6e1a",
   "metadata": {},
   "outputs": [],
   "source": [
    "import torch\n",
    "import torchvision\n",
    "import torch.nn as nn\n",
    "import torch.optim as optim\n",
    "import torchvision.transforms as transforms\n",
    "from torchvision import models\n",
    "from torchvision.datasets import ImageFolder\n",
    "from torch.utils.data import DataLoader\n",
    "import numpy as np\n",
    "import matplotlib.pyplot as plt\n",
    "import os\n",
    "from torch.utils.data import Dataset\n",
    "import math\n",
    "from torchvision.utils import make_grid\n",
    "import time\n",
    "import pickle\n",
    "import torch.nn.functional"
   ]
  },
  {
   "cell_type": "markdown",
   "id": "27861d16",
   "metadata": {},
   "source": [
    "# Helper Functions"
   ]
  },
  {
   "cell_type": "code",
   "execution_count": 3,
   "id": "77480737",
   "metadata": {},
   "outputs": [],
   "source": [
    "def validate_model(model, val_loader, device):\n",
    "    with torch.no_grad():\n",
    "        num_correct = 0\n",
    "        total = 0\n",
    "        model.eval()\n",
    "        for batch, labels in val_loader:\n",
    "            batch = batch.to(device)\n",
    "            labels = labels.to(device)\n",
    "\n",
    "            pred = model(batch)\n",
    "            num_correct += (pred.argmax(dim=1) == labels).type(torch.float).sum().item()\n",
    "            total += len(labels)\n",
    "        accuracy = (num_correct / total) * 100\n",
    "        return accuracy\n",
    "\n",
    "def test_model(model, test_loader, device):\n",
    "    with torch.no_grad():\n",
    "        num_correct = 0\n",
    "        total = 0\n",
    "        model.eval()\n",
    "        for batch, labels in test_loader:\n",
    "            batch = batch.to(device)\n",
    "            labels = labels.to(device)\n",
    "\n",
    "            pred = model(batch)\n",
    "            num_correct += (pred.argmax(dim=1) == labels).type(torch.float).sum().item()\n",
    "            total += len(labels)\n",
    "        accuracy = (num_correct / total) * 100\n",
    "        return accuracy"
   ]
  },
  {
   "cell_type": "markdown",
   "id": "3ad56cbd",
   "metadata": {},
   "source": [
    "# Load and Augment Dataset"
   ]
  },
  {
   "cell_type": "code",
   "execution_count": 4,
   "id": "7c326a36",
   "metadata": {},
   "outputs": [
    {
     "name": "stdout",
     "output_type": "stream",
     "text": [
      "Running on cuda\n"
     ]
    }
   ],
   "source": [
    "# Create Data Augmentation\n",
    "data_transforms = transforms.Compose([\n",
    "    transforms.RandomChoice([\n",
    "        transforms.RandomApply([\n",
    "            transforms.RandomAffine(degrees=0, scale=(0.8, 1.2), fill=255)\n",
    "        ], p=0.2),\n",
    "        transforms.RandomApply([\n",
    "            transforms.RandomHorizontalFlip(p=1.0)\n",
    "        ], p=0.2),\n",
    "        transforms.RandomApply([\n",
    "            transforms.RandomVerticalFlip(p=1.0)\n",
    "        ], p=0.2),\n",
    "    ]),\n",
    "    transforms.ToTensor()\n",
    "])\n",
    "\n",
    "# transforms.RandomApply([\n",
    "#             transforms.ElasticTransform(alpha=40.0, sigma=8.0)\n",
    "#         ], p=0.2),\n",
    "#         transforms.RandomApply([\n",
    "#             transforms.RandomAffine(degrees=0, shear=20, fill=255)\n",
    "#         ], p=0.2),\n",
    "\n",
    "\n",
    "# Load Training, Validation, and Testing Images\n",
    "LABELS = [\"Apple Scab\", \"Apple Black Rot\", \"Apple Cedar Rust\", \"Apple Healthy\", \"Blueberry Healthy\", \"Cherry Healthy\", \"Cherry Powdery Mildew\", \"Corn Cercospora Leaf Spot\", \"Corn Common Rust\", \"Corn Healthy\", \"Corn Northern Leaf Blight\", \"Grape Black Rot\", \"Grape Black Measles\", \"Grape Healthy\", \"Grape Isariopsis Leaf Spot\", \"Orange Haunglonbing\",\n",
    "          \"Peach Bacterial Spot\", \"Peach Healthy\", \"Bell Pepper Bacterial Spot\", \"Bell Pepper Healthy\", \"Potato Early Blight\", \"Potato Healthy\", \"Potato Late Blight\", \"Raspberry Healthy\", \"Soybean Healthy\", \"Squash Powdery Mildew\", \"Strawberry Healthy\", \"Strawberry Leaf Scorch\", \"Tomato Bacterial Spot\", \"Tomato Early Blight\", \"Tomato Healthy\",\n",
    "          \"Tomato Late Blight\", \"Tomato Leaf Mold\", \"Tomato Septoria Leaf Spot\", \"Tomato Spider Mites\", \"Tomato Target Spot\", \"Tomato Mosaic Virus\", \"Tomato Yellow Leaf Curl Virus\"]\n",
    "\n",
    "BATCH_SIZE = 64\n",
    "DEVICE = torch.device(\"cuda\") if torch.cuda.is_available() else torch.device(\"cpu\")\n",
    "print(f\"Running on {DEVICE}\")\n",
    "folder_path = \"PlantVillage\"\n",
    "\n",
    "train_set = ImageFolder(root=folder_path + \"\\Training\", transform=data_transforms)\n",
    "val_set = ImageFolder(root=folder_path + \"\\Validation\", transform=transforms.ToTensor())\n",
    "test_set = ImageFolder(root=folder_path + \"\\Testing\", transform=transforms.ToTensor())\n",
    "\n",
    "train_loader = DataLoader(train_set, batch_size=BATCH_SIZE, shuffle=True, num_workers=12, pin_memory=True)\n",
    "val_loader = DataLoader(val_set, batch_size=BATCH_SIZE, shuffle=False, num_workers=4, pin_memory=True)\n",
    "test_loader = DataLoader(test_set, batch_size=BATCH_SIZE, shuffle=False, num_workers=0, pin_memory=True)"
   ]
  },
  {
   "cell_type": "markdown",
   "id": "477c6d09",
   "metadata": {},
   "source": [
    "# Construct Student"
   ]
  },
  {
   "cell_type": "code",
   "execution_count": 5,
   "id": "dea01975",
   "metadata": {},
   "outputs": [],
   "source": [
    "class StudentModel(nn.Module):\n",
    "    def __init__(self):\n",
    "        super().__init__()\n",
    "\n",
    "        conv1 = nn.Conv2d(in_channels=3, out_channels=32, kernel_size=3, padding=1).to(DEVICE)\n",
    "        relu1 = nn.LeakyReLU().to(DEVICE)\n",
    "        pool1 = nn.MaxPool2d(kernel_size=2).to(DEVICE)\n",
    "\n",
    "        conv2 = nn.Conv2d(in_channels=32, out_channels=64, kernel_size=3, padding=1).to(DEVICE)\n",
    "        relu2 = nn.LeakyReLU().to(DEVICE)\n",
    "        pool2 = nn.MaxPool2d(kernel_size=2).to(DEVICE)\n",
    "\n",
    "        conv3 = nn.Conv2d(in_channels=64, out_channels=128, kernel_size=3, padding=1).to(DEVICE)\n",
    "        relu3 = nn.LeakyReLU().to(DEVICE)\n",
    "        Apool = nn.AdaptiveAvgPool2d(1).to(DEVICE)\n",
    "        \n",
    "        flatten = nn.Flatten().to(DEVICE)\n",
    "\n",
    "        fcn1 = nn.Linear(128, 38).to(DEVICE)\n",
    "        # softmax = nn.Softmax().to(DEVICE)\n",
    "\n",
    "        self.layers = nn.Sequential(conv1, relu1, pool1, conv2, relu2, pool2, conv3, relu3, Apool, flatten, fcn1).to(DEVICE)\n",
    "\n",
    "    def forward(self, x):\n",
    "        return self.layers(x).to(DEVICE)\n",
    "\n",
    "def distillation_loss(student_pred, teacher_pred, labels, T, alpha):\n",
    "    # Calculate soft targets\n",
    "    soft_loss = nn.functional.kl_div(nn.functional.log_softmax(student_pred / T, dim=1), nn.functional.softmax(teacher_pred / T, dim=1), reduction='batchmean') * (T * T)\n",
    "\n",
    "    # Calculate soft targets\n",
    "    criterion = nn.CrossEntropyLoss()\n",
    "    hard_loss = criterion(student_pred, labels)\n",
    "\n",
    "    # Calculate total loss\n",
    "    loss = alpha * hard_loss + (1 - alpha) * soft_loss\n",
    "\n",
    "    return loss"
   ]
  },
  {
   "cell_type": "markdown",
   "id": "a6dd8c25",
   "metadata": {},
   "source": [
    "# Train Student"
   ]
  },
  {
   "cell_type": "code",
   "execution_count": 18,
   "id": "16d5145d",
   "metadata": {},
   "outputs": [
    {
     "name": "stdout",
     "output_type": "stream",
     "text": [
      "Epoch: 75\n",
      "85.50665021253256\n",
      "3.089153903749098\n",
      "Epoch: 76\n",
      "86.21966269025091\n",
      "3.0750286752942384\n",
      "Epoch: 77\n",
      "86.32935691759222\n",
      "3.042932108154353\n",
      "Epoch: 78\n",
      "84.8347730700672\n",
      "3.013828716151669\n",
      "Epoch: 79\n",
      "86.05512134923899\n",
      "2.999382193379971\n",
      "Epoch: 80\n",
      "86.85040449746332\n",
      "2.972132613451737\n",
      "Epoch: 81\n",
      "87.3851638557521\n",
      "2.9271204366248558\n",
      "Epoch: 82\n",
      "86.05512134923899\n",
      "2.9267002767245445\n",
      "Epoch: 83\n",
      "86.76813382695737\n",
      "2.8889867894252728\n",
      "Epoch: 84\n",
      "86.54874537227478\n",
      "2.874714127872057\n",
      "Epoch: 85\n",
      "86.68586315645139\n",
      "2.860667612134796\n",
      "Epoch: 86\n",
      "87.31660496366379\n",
      "2.8591953745997882\n",
      "Epoch: 87\n",
      "87.31660496366379\n",
      "2.8086272579931895\n",
      "Epoch: 88\n",
      "87.96105854929385\n",
      "2.793495164001813\n",
      "Epoch: 89\n",
      "86.69957493486905\n",
      "2.7855536094996998\n",
      "Epoch: 90\n",
      "86.85040449746332\n",
      "2.7616917210931455\n",
      "Epoch: 91\n",
      "87.5222816399287\n",
      "2.7472983702293026\n",
      "Epoch: 92\n",
      "87.50856986151105\n",
      "2.7252415481828627\n",
      "Epoch: 93\n",
      "86.98752228163993\n",
      "2.710502304806098\n",
      "Epoch: 94\n",
      "87.08350473056356\n",
      "2.6914799374052283\n",
      "Epoch: 95\n",
      "87.61826408885233\n",
      "2.6859372878812025\n",
      "Epoch: 96\n",
      "88.16673522555875\n",
      "2.6765381266336905\n",
      "Epoch: 97\n",
      "87.3851638557521\n",
      "2.642341224539789\n",
      "Epoch: 98\n",
      "87.12464006581654\n",
      "2.640596229654349\n",
      "Epoch: 99\n",
      "86.9600987248046\n",
      "2.6355572086546313\n"
     ]
    }
   ],
   "source": [
    "from DiseasedCNN import DiseasedCNN\n",
    "CONTINUE_TRAINING = True\n",
    "NUM_EPOCHS = 25\n",
    "\n",
    "# Load teacher\n",
    "teacher = DiseasedCNN()\n",
    "teacher.load_state_dict(torch.load('finalmodelinfo/DiseasedCNN/DiseasedCNN_statedict.pth'))\n",
    "teacher.layers[-1] = nn.Identity()\n",
    "teacher.eval().to(DEVICE)\n",
    "\n",
    "\n",
    "# Init hyperparameters\n",
    "learning_rate = 0.0005\n",
    "adam_beta1 = 0.9\n",
    "adam_beta2 = 0.999\n",
    "T = 4\n",
    "ALPHA = 0.7\n",
    "# Create student\n",
    "student = StudentModel()\n",
    "student.train()\n",
    "optimizer = torch.optim.Adam(params=student.parameters(), lr=learning_rate, betas=(adam_beta1, adam_beta2), weight_decay=1e-5)\n",
    "scheduler = torch.optim.lr_scheduler.ExponentialLR(optimizer, gamma=0.9)\n",
    "\n",
    "epoch_loss = []\n",
    "validation_acc = []\n",
    "start_epoch = 0\n",
    "\n",
    "# For picking up training later\n",
    "if CONTINUE_TRAINING:\n",
    "    checkpoint = torch.load(\"studentmodel_85_optimizer_state.pth\")\n",
    "    student.load_state_dict(checkpoint['model_state_dict'])\n",
    "    optimizer.load_state_dict(checkpoint['optimizer_state_dict'])\n",
    "    start_epoch = checkpoint['epoch'] + 1\n",
    "    loss = checkpoint['loss']\n",
    "    student.train()\n",
    "\n",
    "    file_path = \"finalmodelinfo/StudentModel/StudentModel_training_info.pickle\"\n",
    "    with open(file_path, \"rb\") as file:\n",
    "        loaded = pickle.load(file)\n",
    "        epoch_loss = loaded[\"epoch_loss\"]\n",
    "        validation_acc = loaded[\"validation_acc\"]\n",
    "# For picking up training later\n",
    "\n",
    "\n",
    "student.to(DEVICE)\n",
    "for epoch in range(start_epoch, start_epoch + NUM_EPOCHS):\n",
    "    train_loss = []\n",
    "    print(\"Epoch: %d\" % epoch)\n",
    "    for step_num, (batch, labels) in enumerate(train_loader):\n",
    "        batch = batch.to(DEVICE)\n",
    "        labels = labels.to(DEVICE)\n",
    "\n",
    "        student_pred = student(batch)\n",
    "\n",
    "        with torch.no_grad():\n",
    "            teacher_pred = teacher(batch)\n",
    "\n",
    "        loss = distillation_loss(student_pred, teacher_pred, labels, T, ALPHA)\n",
    "\n",
    "        optimizer.zero_grad()\n",
    "        loss.backward()\n",
    "        optimizer.step()\n",
    "    \n",
    "        train_loss.append(loss.item())\n",
    "\n",
    "    # Perform validation and store accuracy\n",
    "    validation_accuracy = validate_model(student, val_loader, DEVICE)\n",
    "    validation_acc.append(validation_accuracy)\n",
    "    print(validation_accuracy)\n",
    "\n",
    "    # print(test_model(student, train_loader, DEVICE))\n",
    "\n",
    "    if epoch != 0 and epoch % 10 == 0:\n",
    "        scheduler.step()\n",
    "\n",
    "    # Track average loss for each epoch\n",
    "    print(sum(train_loss) / len(train_loss))\n",
    "    epoch_loss.append(sum(train_loss) / len(train_loss))"
   ]
  },
  {
   "cell_type": "markdown",
   "id": "c0b70e15",
   "metadata": {},
   "source": [
    "### Plot Loss"
   ]
  },
  {
   "cell_type": "code",
   "execution_count": 19,
   "id": "e0a1479e",
   "metadata": {},
   "outputs": [
    {
     "data": {
      "image/png": "[encoded data removed]",
      "text/plain": [
       "<Figure size 640x480 with 1 Axes>"
      ]
     },
     "metadata": {},
     "output_type": "display_data"
    }
   ],
   "source": [
    "plt.title(\"Training Loss History\")\n",
    "plt.xlabel(\"Epoch\")\n",
    "plt.ylabel(\"Average Loss\")\n",
    "plt.plot(epoch_loss)\n",
    "plt.savefig(\"finalmodelinfo/StudentModel/StudentModel_TrainingLoss\")\n",
    "plt.show()"
   ]
  },
  {
   "cell_type": "markdown",
   "id": "21323a45",
   "metadata": {},
   "source": [
    "### Plot Validation Accuracy"
   ]
  },
  {
   "cell_type": "code",
   "execution_count": 26,
   "id": "b94d47c6",
   "metadata": {},
   "outputs": [
    {
     "data": {
      "image/png": "[encoded data removed]",
      "text/plain": [
       "<Figure size 640x480 with 1 Axes>"
      ]
     },
     "metadata": {},
     "output_type": "display_data"
    }
   ],
   "source": [
    "plt.title(\"Validation Accuracy\")\n",
    "plt.xlabel(\"Epoch\")\n",
    "plt.ylabel(\"Accuracy (%)\")\n",
    "plt.plot(validation_acc)\n",
    "plt.savefig(\"finalmodelinfo/StudentModel/StudentModel_ValAcc\")\n",
    "plt.show()"
   ]
  },
  {
   "cell_type": "markdown",
   "id": "4d619304",
   "metadata": {},
   "source": [
    "# Test Model"
   ]
  },
  {
   "cell_type": "code",
   "execution_count": 21,
   "id": "ff0834e4",
   "metadata": {},
   "outputs": [
    {
     "name": "stdout",
     "output_type": "stream",
     "text": [
      "Model accuracy: 86.406951\n"
     ]
    }
   ],
   "source": [
    "accuracy = test_model(model=student, test_loader=test_loader, device=DEVICE)\n",
    "print(\"Model accuracy: %f\" % accuracy)"
   ]
  },
  {
   "cell_type": "markdown",
   "id": "948bfb84",
   "metadata": {},
   "source": [
    "### Save Model"
   ]
  },
  {
   "cell_type": "markdown",
   "id": "47fc65de",
   "metadata": {},
   "source": [
    "##### Save Full Model"
   ]
  },
  {
   "cell_type": "code",
   "execution_count": 22,
   "id": "2a7c672a",
   "metadata": {},
   "outputs": [],
   "source": [
    "torch.save(student, 'finalmodelinfo/StudentModel/StudentModel.pth')"
   ]
  },
  {
   "cell_type": "markdown",
   "id": "aec53a32",
   "metadata": {},
   "source": [
    "##### Save Model State Dict"
   ]
  },
  {
   "cell_type": "code",
   "execution_count": 23,
   "id": "f26646c6",
   "metadata": {},
   "outputs": [],
   "source": [
    "torch.save(student.state_dict(), \"finalmodelinfo/StudentModel/StudentModel_statedict.pth\")"
   ]
  },
  {
   "cell_type": "markdown",
   "id": "8c471890",
   "metadata": {},
   "source": [
    "##### Save Optimizer State"
   ]
  },
  {
   "cell_type": "code",
   "execution_count": 24,
   "id": "9f1a8058",
   "metadata": {},
   "outputs": [],
   "source": [
    "torch.save({\n",
    "    'epoch': epoch,\n",
    "    'model_state_dict': student.state_dict(),\n",
    "    'optimizer_state_dict': optimizer.state_dict(),\n",
    "    'loss': loss,\n",
    "}, \"studentmodel_XX_optimizer_state.pth\")"
   ]
  },
  {
   "cell_type": "markdown",
   "id": "c242a78a",
   "metadata": {},
   "source": [
    "##### Save Training Info"
   ]
  },
  {
   "cell_type": "code",
   "execution_count": 25,
   "id": "a93310ef",
   "metadata": {},
   "outputs": [],
   "source": [
    "file_path = \"finalmodelinfo/StudentModel/StudentModel_training_info.pickle\"\n",
    "info = {}\n",
    "info[\"epoch_loss\"] = epoch_loss\n",
    "info[\"validation_acc\"] = validation_acc\n",
    "with open(file_path, \"wb\") as file:\n",
    "    pickle.dump(info, file)"
   ]
  }
 ],
 "metadata": {
  "kernelspec": {
   "display_name": "Python 3",
   "language": "python",
   "name": "python3"
  },
  "language_info": {
   "codemirror_mode": {
    "name": "ipython",
    "version": 3
   },
   "file_extension": ".py",
   "mimetype": "text/x-python",
   "name": "python",
   "nbconvert_exporter": "python",
   "pygments_lexer": "ipython3",
   "version": "3.10.7"
  }
 },
 "nbformat": 4,
 "nbformat_minor": 5
}
